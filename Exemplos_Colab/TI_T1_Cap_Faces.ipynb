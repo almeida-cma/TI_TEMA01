{
  "nbformat": 4,
  "nbformat_minor": 0,
  "metadata": {
    "colab": {
      "provenance": [],
      "authorship_tag": "ABX9TyO/e36qJgx+YEAU7senLvYZ",
      "include_colab_link": true
    },
    "kernelspec": {
      "name": "python3",
      "display_name": "Python 3"
    },
    "language_info": {
      "name": "python"
    }
  },
  "cells": [
    {
      "cell_type": "markdown",
      "metadata": {
        "id": "view-in-github",
        "colab_type": "text"
      },
      "source": [
        "<a href=\"https://colab.research.google.com/github/almeida-cma/TI_TEMA01/blob/main/TI_T1_Cap_Faces.ipynb\" target=\"_parent\"><img src=\"https://colab.research.google.com/assets/colab-badge.svg\" alt=\"Open In Colab\"/></a>"
      ]
    },
    {
      "cell_type": "code",
      "execution_count": null,
      "metadata": {
        "id": "L4AQdCb55yGI"
      },
      "outputs": [],
      "source": [
        "#@title 📸 Captura de rostos com contagem\n",
        "from IPython.display import display, Javascript, Image, clear_output\n",
        "from google.colab.output import eval_js\n",
        "from base64 import b64decode\n",
        "import cv2\n",
        "import numpy as np\n",
        "from PIL import Image as PILImage\n",
        "import io\n",
        "\n",
        "# Captura imagem da câmera e retorna como arquivo\n",
        "def take_photo():\n",
        "  js = Javascript('''\n",
        "    async function takePhoto() {\n",
        "      const div = document.createElement('div');\n",
        "      const capture = document.createElement('button');\n",
        "      capture.textContent = \"📸 Capturar\";\n",
        "      div.appendChild(capture);\n",
        "\n",
        "      const video = document.createElement('video');\n",
        "      video.style.display = 'block';\n",
        "      div.appendChild(video);\n",
        "\n",
        "      document.body.appendChild(div);\n",
        "\n",
        "      const stream = await navigator.mediaDevices.getUserMedia({ video: true });\n",
        "      video.srcObject = stream;\n",
        "      await video.play();\n",
        "\n",
        "      await new Promise((resolve) => capture.onclick = resolve);\n",
        "\n",
        "      const canvas = document.createElement('canvas');\n",
        "      canvas.width = video.videoWidth;\n",
        "      canvas.height = video.videoHeight;\n",
        "      canvas.getContext('2d').drawImage(video, 0, 0);\n",
        "\n",
        "      stream.getTracks().forEach(track => track.stop());\n",
        "      div.remove();\n",
        "\n",
        "      return canvas.toDataURL('image/jpeg');\n",
        "    }\n",
        "\n",
        "    takePhoto();\n",
        "  ''')\n",
        "\n",
        "  display(js)\n",
        "  data = eval_js(\"takePhoto()\")  # Aqui está o segredo: avalia a função da string\n",
        "  binary = b64decode(data.split(',')[1])\n",
        "  return binary\n",
        "\n",
        "# Captura e decodifica imagem\n",
        "image_bytes = take_photo()\n",
        "image = PILImage.open(io.BytesIO(image_bytes))\n",
        "image_np = np.array(image)\n",
        "gray = cv2.cvtColor(image_np, cv2.COLOR_RGB2GRAY)\n",
        "\n",
        "# Detecta rostos\n",
        "face_cascade = cv2.CascadeClassifier(cv2.data.haarcascades + \"haarcascade_frontalface_default.xml\")\n",
        "faces = face_cascade.detectMultiScale(gray, 1.3, 5)\n",
        "\n",
        "# Desenha caixas\n",
        "for (x, y, w, h) in faces:\n",
        "  cv2.rectangle(image_np, (x, y), (x+w, y+h), (0, 255, 0), 2)\n",
        "\n",
        "# Exibe resultado\n",
        "clear_output()\n",
        "print(f\"✅ Rostos detectados: {len(faces)}\")\n",
        "display(PILImage.fromarray(image_np))\n"
      ]
    }
  ]
}